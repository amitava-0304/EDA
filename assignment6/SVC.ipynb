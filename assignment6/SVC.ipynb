{
 "cells": [
  {
   "cell_type": "code",
   "execution_count": 1,
   "id": "b65b77ff",
   "metadata": {},
   "outputs": [],
   "source": [
    "import pandas as pd\n",
    "data=pd.read_csv(\"https://raw.githubusercontent.com/aniruddhachoudhury/Red-Wine-Quality/master/winequality-red.csv\")"
   ]
  },
  {
   "cell_type": "code",
   "execution_count": 3,
   "id": "64581fe7",
   "metadata": {},
   "outputs": [
    {
     "data": {
      "text/plain": [
       "Index(['fixed acidity', 'volatile acidity', 'citric acid', 'residual sugar',\n",
       "       'chlorides', 'free sulfur dioxide', 'total sulfur dioxide', 'density',\n",
       "       'pH', 'sulphates', 'alcohol', 'quality'],\n",
       "      dtype='object')"
      ]
     },
     "execution_count": 3,
     "metadata": {},
     "output_type": "execute_result"
    }
   ],
   "source": [
    "data.columns"
   ]
  },
  {
   "cell_type": "code",
   "execution_count": 4,
   "id": "a2782bf6",
   "metadata": {},
   "outputs": [
    {
     "name": "stdout",
     "output_type": "stream",
     "text": [
      "<class 'pandas.core.frame.DataFrame'>\n",
      "RangeIndex: 1599 entries, 0 to 1598\n",
      "Data columns (total 12 columns):\n",
      " #   Column                Non-Null Count  Dtype  \n",
      "---  ------                --------------  -----  \n",
      " 0   fixed acidity         1599 non-null   float64\n",
      " 1   volatile acidity      1599 non-null   float64\n",
      " 2   citric acid           1599 non-null   float64\n",
      " 3   residual sugar        1599 non-null   float64\n",
      " 4   chlorides             1599 non-null   float64\n",
      " 5   free sulfur dioxide   1599 non-null   float64\n",
      " 6   total sulfur dioxide  1599 non-null   float64\n",
      " 7   density               1599 non-null   float64\n",
      " 8   pH                    1599 non-null   float64\n",
      " 9   sulphates             1599 non-null   float64\n",
      " 10  alcohol               1599 non-null   float64\n",
      " 11  quality               1599 non-null   int64  \n",
      "dtypes: float64(11), int64(1)\n",
      "memory usage: 150.0 KB\n"
     ]
    }
   ],
   "source": [
    "data.info()"
   ]
  },
  {
   "cell_type": "code",
   "execution_count": 9,
   "id": "57ab3466",
   "metadata": {},
   "outputs": [
    {
     "data": {
      "text/html": [
       "<div>\n",
       "<style scoped>\n",
       "    .dataframe tbody tr th:only-of-type {\n",
       "        vertical-align: middle;\n",
       "    }\n",
       "\n",
       "    .dataframe tbody tr th {\n",
       "        vertical-align: top;\n",
       "    }\n",
       "\n",
       "    .dataframe thead th {\n",
       "        text-align: right;\n",
       "    }\n",
       "</style>\n",
       "<table border=\"1\" class=\"dataframe\">\n",
       "  <thead>\n",
       "    <tr style=\"text-align: right;\">\n",
       "      <th></th>\n",
       "      <th>count</th>\n",
       "      <th>mean</th>\n",
       "      <th>std</th>\n",
       "      <th>min</th>\n",
       "      <th>25%</th>\n",
       "      <th>50%</th>\n",
       "      <th>75%</th>\n",
       "      <th>max</th>\n",
       "    </tr>\n",
       "  </thead>\n",
       "  <tbody>\n",
       "    <tr>\n",
       "      <th>fixed acidity</th>\n",
       "      <td>1599.0</td>\n",
       "      <td>8.319637</td>\n",
       "      <td>1.741096</td>\n",
       "      <td>4.60000</td>\n",
       "      <td>7.1000</td>\n",
       "      <td>7.90000</td>\n",
       "      <td>9.200000</td>\n",
       "      <td>15.90000</td>\n",
       "    </tr>\n",
       "    <tr>\n",
       "      <th>volatile acidity</th>\n",
       "      <td>1599.0</td>\n",
       "      <td>0.527821</td>\n",
       "      <td>0.179060</td>\n",
       "      <td>0.12000</td>\n",
       "      <td>0.3900</td>\n",
       "      <td>0.52000</td>\n",
       "      <td>0.640000</td>\n",
       "      <td>1.58000</td>\n",
       "    </tr>\n",
       "    <tr>\n",
       "      <th>citric acid</th>\n",
       "      <td>1599.0</td>\n",
       "      <td>0.270976</td>\n",
       "      <td>0.194801</td>\n",
       "      <td>0.00000</td>\n",
       "      <td>0.0900</td>\n",
       "      <td>0.26000</td>\n",
       "      <td>0.420000</td>\n",
       "      <td>1.00000</td>\n",
       "    </tr>\n",
       "    <tr>\n",
       "      <th>residual sugar</th>\n",
       "      <td>1599.0</td>\n",
       "      <td>2.538806</td>\n",
       "      <td>1.409928</td>\n",
       "      <td>0.90000</td>\n",
       "      <td>1.9000</td>\n",
       "      <td>2.20000</td>\n",
       "      <td>2.600000</td>\n",
       "      <td>15.50000</td>\n",
       "    </tr>\n",
       "    <tr>\n",
       "      <th>chlorides</th>\n",
       "      <td>1599.0</td>\n",
       "      <td>0.087467</td>\n",
       "      <td>0.047065</td>\n",
       "      <td>0.01200</td>\n",
       "      <td>0.0700</td>\n",
       "      <td>0.07900</td>\n",
       "      <td>0.090000</td>\n",
       "      <td>0.61100</td>\n",
       "    </tr>\n",
       "    <tr>\n",
       "      <th>free sulfur dioxide</th>\n",
       "      <td>1599.0</td>\n",
       "      <td>15.874922</td>\n",
       "      <td>10.460157</td>\n",
       "      <td>1.00000</td>\n",
       "      <td>7.0000</td>\n",
       "      <td>14.00000</td>\n",
       "      <td>21.000000</td>\n",
       "      <td>72.00000</td>\n",
       "    </tr>\n",
       "    <tr>\n",
       "      <th>total sulfur dioxide</th>\n",
       "      <td>1599.0</td>\n",
       "      <td>46.467792</td>\n",
       "      <td>32.895324</td>\n",
       "      <td>6.00000</td>\n",
       "      <td>22.0000</td>\n",
       "      <td>38.00000</td>\n",
       "      <td>62.000000</td>\n",
       "      <td>289.00000</td>\n",
       "    </tr>\n",
       "    <tr>\n",
       "      <th>density</th>\n",
       "      <td>1599.0</td>\n",
       "      <td>0.996747</td>\n",
       "      <td>0.001887</td>\n",
       "      <td>0.99007</td>\n",
       "      <td>0.9956</td>\n",
       "      <td>0.99675</td>\n",
       "      <td>0.997835</td>\n",
       "      <td>1.00369</td>\n",
       "    </tr>\n",
       "    <tr>\n",
       "      <th>pH</th>\n",
       "      <td>1599.0</td>\n",
       "      <td>3.311113</td>\n",
       "      <td>0.154386</td>\n",
       "      <td>2.74000</td>\n",
       "      <td>3.2100</td>\n",
       "      <td>3.31000</td>\n",
       "      <td>3.400000</td>\n",
       "      <td>4.01000</td>\n",
       "    </tr>\n",
       "    <tr>\n",
       "      <th>sulphates</th>\n",
       "      <td>1599.0</td>\n",
       "      <td>0.658149</td>\n",
       "      <td>0.169507</td>\n",
       "      <td>0.33000</td>\n",
       "      <td>0.5500</td>\n",
       "      <td>0.62000</td>\n",
       "      <td>0.730000</td>\n",
       "      <td>2.00000</td>\n",
       "    </tr>\n",
       "    <tr>\n",
       "      <th>alcohol</th>\n",
       "      <td>1599.0</td>\n",
       "      <td>10.422983</td>\n",
       "      <td>1.065668</td>\n",
       "      <td>8.40000</td>\n",
       "      <td>9.5000</td>\n",
       "      <td>10.20000</td>\n",
       "      <td>11.100000</td>\n",
       "      <td>14.90000</td>\n",
       "    </tr>\n",
       "    <tr>\n",
       "      <th>quality</th>\n",
       "      <td>1599.0</td>\n",
       "      <td>5.636023</td>\n",
       "      <td>0.807569</td>\n",
       "      <td>3.00000</td>\n",
       "      <td>5.0000</td>\n",
       "      <td>6.00000</td>\n",
       "      <td>6.000000</td>\n",
       "      <td>8.00000</td>\n",
       "    </tr>\n",
       "  </tbody>\n",
       "</table>\n",
       "</div>"
      ],
      "text/plain": [
       "                       count       mean        std      min      25%  \\\n",
       "fixed acidity         1599.0   8.319637   1.741096  4.60000   7.1000   \n",
       "volatile acidity      1599.0   0.527821   0.179060  0.12000   0.3900   \n",
       "citric acid           1599.0   0.270976   0.194801  0.00000   0.0900   \n",
       "residual sugar        1599.0   2.538806   1.409928  0.90000   1.9000   \n",
       "chlorides             1599.0   0.087467   0.047065  0.01200   0.0700   \n",
       "free sulfur dioxide   1599.0  15.874922  10.460157  1.00000   7.0000   \n",
       "total sulfur dioxide  1599.0  46.467792  32.895324  6.00000  22.0000   \n",
       "density               1599.0   0.996747   0.001887  0.99007   0.9956   \n",
       "pH                    1599.0   3.311113   0.154386  2.74000   3.2100   \n",
       "sulphates             1599.0   0.658149   0.169507  0.33000   0.5500   \n",
       "alcohol               1599.0  10.422983   1.065668  8.40000   9.5000   \n",
       "quality               1599.0   5.636023   0.807569  3.00000   5.0000   \n",
       "\n",
       "                           50%        75%        max  \n",
       "fixed acidity          7.90000   9.200000   15.90000  \n",
       "volatile acidity       0.52000   0.640000    1.58000  \n",
       "citric acid            0.26000   0.420000    1.00000  \n",
       "residual sugar         2.20000   2.600000   15.50000  \n",
       "chlorides              0.07900   0.090000    0.61100  \n",
       "free sulfur dioxide   14.00000  21.000000   72.00000  \n",
       "total sulfur dioxide  38.00000  62.000000  289.00000  \n",
       "density                0.99675   0.997835    1.00369  \n",
       "pH                     3.31000   3.400000    4.01000  \n",
       "sulphates              0.62000   0.730000    2.00000  \n",
       "alcohol               10.20000  11.100000   14.90000  \n",
       "quality                6.00000   6.000000    8.00000  "
      ]
     },
     "execution_count": 9,
     "metadata": {},
     "output_type": "execute_result"
    }
   ],
   "source": [
    "data.describe().T"
   ]
  },
  {
   "cell_type": "code",
   "execution_count": 7,
   "id": "dab3d310",
   "metadata": {},
   "outputs": [
    {
     "data": {
      "text/plain": [
       "array([5, 6, 7, 4, 8, 3], dtype=int64)"
      ]
     },
     "execution_count": 7,
     "metadata": {},
     "output_type": "execute_result"
    }
   ],
   "source": [
    "data['quality'].unique()"
   ]
  },
  {
   "cell_type": "code",
   "execution_count": 8,
   "id": "448d5bb1",
   "metadata": {},
   "outputs": [
    {
     "data": {
      "text/plain": [
       "5    681\n",
       "6    638\n",
       "7    199\n",
       "4     53\n",
       "8     18\n",
       "3     10\n",
       "Name: quality, dtype: int64"
      ]
     },
     "execution_count": 8,
     "metadata": {},
     "output_type": "execute_result"
    }
   ],
   "source": [
    "data['quality'].value_counts()"
   ]
  },
  {
   "cell_type": "code",
   "execution_count": 2,
   "id": "cfc318c4",
   "metadata": {},
   "outputs": [],
   "source": [
    "from sklearn.preprocessing import StandardScaler"
   ]
  },
  {
   "cell_type": "code",
   "execution_count": 3,
   "id": "6f575384",
   "metadata": {},
   "outputs": [],
   "source": [
    "X=data.drop(\"quality\",axis=1)"
   ]
  },
  {
   "cell_type": "code",
   "execution_count": 13,
   "id": "48c5491c",
   "metadata": {},
   "outputs": [
    {
     "data": {
      "text/html": [
       "<div>\n",
       "<style scoped>\n",
       "    .dataframe tbody tr th:only-of-type {\n",
       "        vertical-align: middle;\n",
       "    }\n",
       "\n",
       "    .dataframe tbody tr th {\n",
       "        vertical-align: top;\n",
       "    }\n",
       "\n",
       "    .dataframe thead th {\n",
       "        text-align: right;\n",
       "    }\n",
       "</style>\n",
       "<table border=\"1\" class=\"dataframe\">\n",
       "  <thead>\n",
       "    <tr style=\"text-align: right;\">\n",
       "      <th></th>\n",
       "      <th>fixed acidity</th>\n",
       "      <th>volatile acidity</th>\n",
       "      <th>citric acid</th>\n",
       "      <th>residual sugar</th>\n",
       "      <th>chlorides</th>\n",
       "      <th>free sulfur dioxide</th>\n",
       "      <th>total sulfur dioxide</th>\n",
       "      <th>density</th>\n",
       "      <th>pH</th>\n",
       "      <th>sulphates</th>\n",
       "      <th>alcohol</th>\n",
       "    </tr>\n",
       "  </thead>\n",
       "  <tbody>\n",
       "    <tr>\n",
       "      <th>0</th>\n",
       "      <td>7.4</td>\n",
       "      <td>0.70</td>\n",
       "      <td>0.00</td>\n",
       "      <td>1.9</td>\n",
       "      <td>0.076</td>\n",
       "      <td>11.0</td>\n",
       "      <td>34.0</td>\n",
       "      <td>0.9978</td>\n",
       "      <td>3.51</td>\n",
       "      <td>0.56</td>\n",
       "      <td>9.4</td>\n",
       "    </tr>\n",
       "    <tr>\n",
       "      <th>1</th>\n",
       "      <td>7.8</td>\n",
       "      <td>0.88</td>\n",
       "      <td>0.00</td>\n",
       "      <td>2.6</td>\n",
       "      <td>0.098</td>\n",
       "      <td>25.0</td>\n",
       "      <td>67.0</td>\n",
       "      <td>0.9968</td>\n",
       "      <td>3.20</td>\n",
       "      <td>0.68</td>\n",
       "      <td>9.8</td>\n",
       "    </tr>\n",
       "    <tr>\n",
       "      <th>2</th>\n",
       "      <td>7.8</td>\n",
       "      <td>0.76</td>\n",
       "      <td>0.04</td>\n",
       "      <td>2.3</td>\n",
       "      <td>0.092</td>\n",
       "      <td>15.0</td>\n",
       "      <td>54.0</td>\n",
       "      <td>0.9970</td>\n",
       "      <td>3.26</td>\n",
       "      <td>0.65</td>\n",
       "      <td>9.8</td>\n",
       "    </tr>\n",
       "    <tr>\n",
       "      <th>3</th>\n",
       "      <td>11.2</td>\n",
       "      <td>0.28</td>\n",
       "      <td>0.56</td>\n",
       "      <td>1.9</td>\n",
       "      <td>0.075</td>\n",
       "      <td>17.0</td>\n",
       "      <td>60.0</td>\n",
       "      <td>0.9980</td>\n",
       "      <td>3.16</td>\n",
       "      <td>0.58</td>\n",
       "      <td>9.8</td>\n",
       "    </tr>\n",
       "    <tr>\n",
       "      <th>4</th>\n",
       "      <td>7.4</td>\n",
       "      <td>0.70</td>\n",
       "      <td>0.00</td>\n",
       "      <td>1.9</td>\n",
       "      <td>0.076</td>\n",
       "      <td>11.0</td>\n",
       "      <td>34.0</td>\n",
       "      <td>0.9978</td>\n",
       "      <td>3.51</td>\n",
       "      <td>0.56</td>\n",
       "      <td>9.4</td>\n",
       "    </tr>\n",
       "  </tbody>\n",
       "</table>\n",
       "</div>"
      ],
      "text/plain": [
       "   fixed acidity  volatile acidity  citric acid  residual sugar  chlorides  \\\n",
       "0            7.4              0.70         0.00             1.9      0.076   \n",
       "1            7.8              0.88         0.00             2.6      0.098   \n",
       "2            7.8              0.76         0.04             2.3      0.092   \n",
       "3           11.2              0.28         0.56             1.9      0.075   \n",
       "4            7.4              0.70         0.00             1.9      0.076   \n",
       "\n",
       "   free sulfur dioxide  total sulfur dioxide  density    pH  sulphates  \\\n",
       "0                 11.0                  34.0   0.9978  3.51       0.56   \n",
       "1                 25.0                  67.0   0.9968  3.20       0.68   \n",
       "2                 15.0                  54.0   0.9970  3.26       0.65   \n",
       "3                 17.0                  60.0   0.9980  3.16       0.58   \n",
       "4                 11.0                  34.0   0.9978  3.51       0.56   \n",
       "\n",
       "   alcohol  \n",
       "0      9.4  \n",
       "1      9.8  \n",
       "2      9.8  \n",
       "3      9.8  \n",
       "4      9.4  "
      ]
     },
     "execution_count": 13,
     "metadata": {},
     "output_type": "execute_result"
    }
   ],
   "source": [
    "X.head()"
   ]
  },
  {
   "cell_type": "code",
   "execution_count": 4,
   "id": "d66d2233",
   "metadata": {},
   "outputs": [],
   "source": [
    "y=data[\"quality\"]"
   ]
  },
  {
   "cell_type": "code",
   "execution_count": 15,
   "id": "efc48eaa",
   "metadata": {},
   "outputs": [
    {
     "data": {
      "text/plain": [
       "0    5\n",
       "1    5\n",
       "2    5\n",
       "3    6\n",
       "4    5\n",
       "Name: quality, dtype: int64"
      ]
     },
     "execution_count": 15,
     "metadata": {},
     "output_type": "execute_result"
    }
   ],
   "source": [
    "y.head()"
   ]
  },
  {
   "cell_type": "code",
   "execution_count": 8,
   "id": "b9001b07",
   "metadata": {},
   "outputs": [],
   "source": [
    "from sklearn.model_selection import train_test_split"
   ]
  },
  {
   "cell_type": "code",
   "execution_count": 9,
   "id": "90cf4973",
   "metadata": {},
   "outputs": [],
   "source": [
    "# Splitting the dataset into the Training set and Test set\n",
    "# Splitting the dataset into the Training set and Test set.%20 of dataset for test set,%80 for training set.\n",
    "X_train, X_test, y_train, y_test = train_test_split(X, y, test_size = 0.2, random_state = 0)"
   ]
  },
  {
   "cell_type": "code",
   "execution_count": 10,
   "id": "feb099ab",
   "metadata": {},
   "outputs": [],
   "source": [
    "# Feature Scaling\n",
    "from sklearn.preprocessing import StandardScaler\n",
    "sc = StandardScaler()\n",
    "X_train = sc.fit_transform(X_train)\n",
    "X_test = sc.transform(X_test)"
   ]
  },
  {
   "cell_type": "code",
   "execution_count": 11,
   "id": "de3d3642",
   "metadata": {},
   "outputs": [],
   "source": [
    "from sklearn.svm import SVC\n",
    "classifier = SVC(kernel = 'rbf', random_state = 0)\n",
    "classifier.fit(X_train, y_train)\n",
    "#Predicting the Test Set\n",
    "y_pred = classifier.predict(X_test)"
   ]
  },
  {
   "cell_type": "code",
   "execution_count": 13,
   "id": "d6573807",
   "metadata": {},
   "outputs": [
    {
     "data": {
      "text/plain": [
       "<AxesSubplot:>"
      ]
     },
     "execution_count": 13,
     "metadata": {},
     "output_type": "execute_result"
    },
    {
     "data": {
      "image/png": "[encoded data removed]",
      "text/plain": [
       "<Figure size 432x288 with 2 Axes>"
      ]
     },
     "metadata": {
      "needs_background": "light"
     },
     "output_type": "display_data"
    }
   ],
   "source": [
    "import seaborn as sns\n",
    "from sklearn.metrics import confusion_matrix\n",
    "cm = confusion_matrix(y_test, y_pred)\n",
    "sns.heatmap(cm,annot=True,fmt='2.0f')"
   ]
  },
  {
   "cell_type": "code",
   "execution_count": 14,
   "id": "906513e3",
   "metadata": {},
   "outputs": [
    {
     "name": "stderr",
     "output_type": "stream",
     "text": [
      "C:\\Users\\AMITAVA\\Anaconda3\\lib\\site-packages\\sklearn\\model_selection\\_split.py:676: UserWarning: The least populated class in y has only 8 members, which is less than n_splits=10.\n",
      "  warnings.warn(\n"
     ]
    },
    {
     "data": {
      "text/plain": [
       "0.6027989665354331"
      ]
     },
     "execution_count": 14,
     "metadata": {},
     "output_type": "execute_result"
    }
   ],
   "source": [
    "from sklearn.model_selection import cross_val_score\n",
    "accuracies = cross_val_score(estimator = classifier, X = X_train,\n",
    "                             y = y_train, cv = 10)\n",
    "#we can see model's average accuracy\n",
    "accuracies.mean()"
   ]
  },
  {
   "cell_type": "code",
   "execution_count": 15,
   "id": "a297000b",
   "metadata": {},
   "outputs": [],
   "source": [
    "from sklearn.metrics import accuracy_score\n",
    "accuracy=accuracy_score(y_test,y_pred)"
   ]
  },
  {
   "cell_type": "code",
   "execution_count": 16,
   "id": "d8b124ff",
   "metadata": {},
   "outputs": [
    {
     "data": {
      "text/plain": [
       "0.64375"
      ]
     },
     "execution_count": 16,
     "metadata": {},
     "output_type": "execute_result"
    }
   ],
   "source": [
    "accuracy"
   ]
  },
  {
   "cell_type": "code",
   "execution_count": 17,
   "id": "0c3dfdb5",
   "metadata": {},
   "outputs": [
    {
     "name": "stdout",
     "output_type": "stream",
     "text": [
      "Fitting 10 folds for each of 40 candidates, totalling 400 fits\n",
      "[CV 1/10] END ...............C=1, kernel=linear;, score=0.586 total time=   0.1s\n"
     ]
    },
    {
     "name": "stderr",
     "output_type": "stream",
     "text": [
      "C:\\Users\\AMITAVA\\Anaconda3\\lib\\site-packages\\sklearn\\model_selection\\_split.py:676: UserWarning: The least populated class in y has only 8 members, which is less than n_splits=10.\n",
      "  warnings.warn(\n"
     ]
    },
    {
     "name": "stdout",
     "output_type": "stream",
     "text": [
      "[CV 2/10] END ...............C=1, kernel=linear;, score=0.547 total time=   0.1s\n",
      "[CV 3/10] END ...............C=1, kernel=linear;, score=0.586 total time=   0.1s\n",
      "[CV 4/10] END ...............C=1, kernel=linear;, score=0.555 total time=   0.1s\n",
      "[CV 5/10] END ...............C=1, kernel=linear;, score=0.547 total time=   0.1s\n",
      "[CV 6/10] END ...............C=1, kernel=linear;, score=0.539 total time=   0.1s\n",
      "[CV 7/10] END ...............C=1, kernel=linear;, score=0.648 total time=   0.1s\n",
      "[CV 8/10] END ...............C=1, kernel=linear;, score=0.555 total time=   0.1s\n",
      "[CV 9/10] END ...............C=1, kernel=linear;, score=0.555 total time=   0.1s\n",
      "[CV 10/10] END ..............C=1, kernel=linear;, score=0.591 total time=   0.1s\n",
      "[CV 1/10] END ..............C=10, kernel=linear;, score=0.570 total time=   0.5s\n",
      "[CV 2/10] END ..............C=10, kernel=linear;, score=0.555 total time=   0.5s\n",
      "[CV 3/10] END ..............C=10, kernel=linear;, score=0.578 total time=   0.5s\n",
      "[CV 4/10] END ..............C=10, kernel=linear;, score=0.547 total time=   0.5s\n",
      "[CV 5/10] END ..............C=10, kernel=linear;, score=0.539 total time=   0.6s\n",
      "[CV 6/10] END ..............C=10, kernel=linear;, score=0.539 total time=   0.5s\n",
      "[CV 7/10] END ..............C=10, kernel=linear;, score=0.656 total time=   0.6s\n",
      "[CV 8/10] END ..............C=10, kernel=linear;, score=0.555 total time=   0.5s\n",
      "[CV 9/10] END ..............C=10, kernel=linear;, score=0.555 total time=   0.5s\n",
      "[CV 10/10] END .............C=10, kernel=linear;, score=0.591 total time=   0.4s\n",
      "[CV 1/10] END .............C=100, kernel=linear;, score=0.570 total time=   3.7s\n",
      "[CV 2/10] END .............C=100, kernel=linear;, score=0.555 total time=   3.6s\n",
      "[CV 3/10] END .............C=100, kernel=linear;, score=0.578 total time=   3.5s\n",
      "[CV 4/10] END .............C=100, kernel=linear;, score=0.547 total time=   3.1s\n",
      "[CV 5/10] END .............C=100, kernel=linear;, score=0.539 total time=   4.4s\n",
      "[CV 6/10] END .............C=100, kernel=linear;, score=0.539 total time=   3.5s\n",
      "[CV 7/10] END .............C=100, kernel=linear;, score=0.656 total time=   3.4s\n",
      "[CV 8/10] END .............C=100, kernel=linear;, score=0.555 total time=   3.4s\n",
      "[CV 9/10] END .............C=100, kernel=linear;, score=0.555 total time=   3.7s\n",
      "[CV 10/10] END ............C=100, kernel=linear;, score=0.591 total time=   3.5s\n",
      "[CV 1/10] END ............C=1000, kernel=linear;, score=0.570 total time= 5.3min\n",
      "[CV 2/10] END ............C=1000, kernel=linear;, score=0.555 total time= 6.2min\n",
      "[CV 3/10] END ............C=1000, kernel=linear;, score=0.570 total time= 8.3min\n",
      "[CV 4/10] END ............C=1000, kernel=linear;, score=0.547 total time= 3.9min\n",
      "[CV 5/10] END ............C=1000, kernel=linear;, score=0.539 total time= 5.7min\n",
      "[CV 6/10] END ............C=1000, kernel=linear;, score=0.539 total time= 6.0min\n",
      "[CV 7/10] END ............C=1000, kernel=linear;, score=0.656 total time= 6.9min\n",
      "[CV 8/10] END ............C=1000, kernel=linear;, score=0.555 total time= 6.6min\n",
      "[CV 9/10] END ............C=1000, kernel=linear;, score=0.555 total time= 5.9min\n",
      "[CV 10/10] END ...........C=1000, kernel=linear;, score=0.591 total time= 3.0min\n",
      "[CV 1/10] END .......C=1, gamma=0.1, kernel=rbf;, score=0.617 total time=   0.0s\n",
      "[CV 2/10] END .......C=1, gamma=0.1, kernel=rbf;, score=0.602 total time=   0.1s\n",
      "[CV 3/10] END .......C=1, gamma=0.1, kernel=rbf;, score=0.641 total time=   0.0s\n",
      "[CV 4/10] END .......C=1, gamma=0.1, kernel=rbf;, score=0.539 total time=   0.0s\n",
      "[CV 5/10] END .......C=1, gamma=0.1, kernel=rbf;, score=0.594 total time=   0.0s\n",
      "[CV 6/10] END .......C=1, gamma=0.1, kernel=rbf;, score=0.570 total time=   0.1s\n",
      "[CV 7/10] END .......C=1, gamma=0.1, kernel=rbf;, score=0.695 total time=   0.0s\n",
      "[CV 8/10] END .......C=1, gamma=0.1, kernel=rbf;, score=0.617 total time=   0.0s\n",
      "[CV 9/10] END .......C=1, gamma=0.1, kernel=rbf;, score=0.609 total time=   0.0s\n",
      "[CV 10/10] END ......C=1, gamma=0.1, kernel=rbf;, score=0.583 total time=   0.0s\n",
      "[CV 1/10] END .......C=1, gamma=0.2, kernel=rbf;, score=0.617 total time=   0.1s\n",
      "[CV 2/10] END .......C=1, gamma=0.2, kernel=rbf;, score=0.625 total time=   0.1s\n",
      "[CV 3/10] END .......C=1, gamma=0.2, kernel=rbf;, score=0.625 total time=   0.0s\n",
      "[CV 4/10] END .......C=1, gamma=0.2, kernel=rbf;, score=0.562 total time=   0.1s\n",
      "[CV 5/10] END .......C=1, gamma=0.2, kernel=rbf;, score=0.609 total time=   0.1s\n",
      "[CV 6/10] END .......C=1, gamma=0.2, kernel=rbf;, score=0.602 total time=   0.1s\n",
      "[CV 7/10] END .......C=1, gamma=0.2, kernel=rbf;, score=0.688 total time=   0.1s\n",
      "[CV 8/10] END .......C=1, gamma=0.2, kernel=rbf;, score=0.617 total time=   0.1s\n",
      "[CV 9/10] END .......C=1, gamma=0.2, kernel=rbf;, score=0.609 total time=   0.1s\n",
      "[CV 10/10] END ......C=1, gamma=0.2, kernel=rbf;, score=0.614 total time=   0.1s\n",
      "[CV 1/10] END .......C=1, gamma=0.3, kernel=rbf;, score=0.578 total time=   0.1s\n",
      "[CV 2/10] END .......C=1, gamma=0.3, kernel=rbf;, score=0.617 total time=   0.1s\n",
      "[CV 3/10] END .......C=1, gamma=0.3, kernel=rbf;, score=0.633 total time=   0.1s\n",
      "[CV 4/10] END .......C=1, gamma=0.3, kernel=rbf;, score=0.570 total time=   0.1s\n",
      "[CV 5/10] END .......C=1, gamma=0.3, kernel=rbf;, score=0.641 total time=   0.1s\n",
      "[CV 6/10] END .......C=1, gamma=0.3, kernel=rbf;, score=0.617 total time=   0.1s\n",
      "[CV 7/10] END .......C=1, gamma=0.3, kernel=rbf;, score=0.703 total time=   0.1s\n",
      "[CV 8/10] END .......C=1, gamma=0.3, kernel=rbf;, score=0.594 total time=   0.1s\n",
      "[CV 9/10] END .......C=1, gamma=0.3, kernel=rbf;, score=0.609 total time=   0.1s\n",
      "[CV 10/10] END ......C=1, gamma=0.3, kernel=rbf;, score=0.654 total time=   0.1s\n",
      "[CV 1/10] END .......C=1, gamma=0.4, kernel=rbf;, score=0.586 total time=   0.1s\n",
      "[CV 2/10] END .......C=1, gamma=0.4, kernel=rbf;, score=0.625 total time=   0.1s\n",
      "[CV 3/10] END .......C=1, gamma=0.4, kernel=rbf;, score=0.641 total time=   0.1s\n",
      "[CV 4/10] END .......C=1, gamma=0.4, kernel=rbf;, score=0.586 total time=   0.1s\n",
      "[CV 5/10] END .......C=1, gamma=0.4, kernel=rbf;, score=0.641 total time=   0.1s\n",
      "[CV 6/10] END .......C=1, gamma=0.4, kernel=rbf;, score=0.602 total time=   0.1s\n",
      "[CV 7/10] END .......C=1, gamma=0.4, kernel=rbf;, score=0.695 total time=   0.1s\n",
      "[CV 8/10] END .......C=1, gamma=0.4, kernel=rbf;, score=0.594 total time=   0.1s\n",
      "[CV 9/10] END .......C=1, gamma=0.4, kernel=rbf;, score=0.602 total time=   0.1s\n",
      "[CV 10/10] END ......C=1, gamma=0.4, kernel=rbf;, score=0.661 total time=   0.1s\n",
      "[CV 1/10] END .......C=1, gamma=0.5, kernel=rbf;, score=0.586 total time=   0.1s\n",
      "[CV 2/10] END .......C=1, gamma=0.5, kernel=rbf;, score=0.625 total time=   0.1s\n",
      "[CV 3/10] END .......C=1, gamma=0.5, kernel=rbf;, score=0.633 total time=   0.1s\n",
      "[CV 4/10] END .......C=1, gamma=0.5, kernel=rbf;, score=0.594 total time=   0.1s\n",
      "[CV 5/10] END .......C=1, gamma=0.5, kernel=rbf;, score=0.633 total time=   0.1s\n",
      "[CV 6/10] END .......C=1, gamma=0.5, kernel=rbf;, score=0.617 total time=   0.1s\n",
      "[CV 7/10] END .......C=1, gamma=0.5, kernel=rbf;, score=0.719 total time=   0.1s\n",
      "[CV 8/10] END .......C=1, gamma=0.5, kernel=rbf;, score=0.609 total time=   0.1s\n",
      "[CV 9/10] END .......C=1, gamma=0.5, kernel=rbf;, score=0.617 total time=   0.1s\n",
      "[CV 10/10] END ......C=1, gamma=0.5, kernel=rbf;, score=0.646 total time=   0.1s\n",
      "[CV 1/10] END .......C=1, gamma=0.6, kernel=rbf;, score=0.578 total time=   0.1s\n",
      "[CV 2/10] END .......C=1, gamma=0.6, kernel=rbf;, score=0.625 total time=   0.1s\n",
      "[CV 3/10] END .......C=1, gamma=0.6, kernel=rbf;, score=0.641 total time=   0.1s\n",
      "[CV 4/10] END .......C=1, gamma=0.6, kernel=rbf;, score=0.594 total time=   0.1s\n",
      "[CV 5/10] END .......C=1, gamma=0.6, kernel=rbf;, score=0.648 total time=   0.1s\n",
      "[CV 6/10] END .......C=1, gamma=0.6, kernel=rbf;, score=0.609 total time=   0.1s\n",
      "[CV 7/10] END .......C=1, gamma=0.6, kernel=rbf;, score=0.703 total time=   0.1s\n",
      "[CV 8/10] END .......C=1, gamma=0.6, kernel=rbf;, score=0.609 total time=   0.1s\n",
      "[CV 9/10] END .......C=1, gamma=0.6, kernel=rbf;, score=0.609 total time=   0.1s\n",
      "[CV 10/10] END ......C=1, gamma=0.6, kernel=rbf;, score=0.661 total time=   0.1s\n",
      "[CV 1/10] END .......C=1, gamma=0.7, kernel=rbf;, score=0.562 total time=   0.1s\n",
      "[CV 2/10] END .......C=1, gamma=0.7, kernel=rbf;, score=0.609 total time=   0.1s\n",
      "[CV 3/10] END .......C=1, gamma=0.7, kernel=rbf;, score=0.633 total time=   0.1s\n"
     ]
    },
    {
     "name": "stdout",
     "output_type": "stream",
     "text": [
      "[CV 4/10] END .......C=1, gamma=0.7, kernel=rbf;, score=0.609 total time=   0.1s\n",
      "[CV 5/10] END .......C=1, gamma=0.7, kernel=rbf;, score=0.672 total time=   0.1s\n",
      "[CV 6/10] END .......C=1, gamma=0.7, kernel=rbf;, score=0.625 total time=   0.1s\n",
      "[CV 7/10] END .......C=1, gamma=0.7, kernel=rbf;, score=0.695 total time=   0.1s\n",
      "[CV 8/10] END .......C=1, gamma=0.7, kernel=rbf;, score=0.633 total time=   0.2s\n",
      "[CV 9/10] END .......C=1, gamma=0.7, kernel=rbf;, score=0.602 total time=   0.1s\n",
      "[CV 10/10] END ......C=1, gamma=0.7, kernel=rbf;, score=0.661 total time=   0.1s\n",
      "[CV 1/10] END .......C=1, gamma=0.8, kernel=rbf;, score=0.562 total time=   0.2s\n",
      "[CV 2/10] END .......C=1, gamma=0.8, kernel=rbf;, score=0.594 total time=   0.2s\n",
      "[CV 3/10] END .......C=1, gamma=0.8, kernel=rbf;, score=0.641 total time=   0.2s\n",
      "[CV 4/10] END .......C=1, gamma=0.8, kernel=rbf;, score=0.602 total time=   0.2s\n",
      "[CV 5/10] END .......C=1, gamma=0.8, kernel=rbf;, score=0.664 total time=   0.2s\n",
      "[CV 6/10] END .......C=1, gamma=0.8, kernel=rbf;, score=0.609 total time=   0.2s\n",
      "[CV 7/10] END .......C=1, gamma=0.8, kernel=rbf;, score=0.703 total time=   0.2s\n",
      "[CV 8/10] END .......C=1, gamma=0.8, kernel=rbf;, score=0.641 total time=   0.1s\n",
      "[CV 9/10] END .......C=1, gamma=0.8, kernel=rbf;, score=0.609 total time=   0.1s\n",
      "[CV 10/10] END ......C=1, gamma=0.8, kernel=rbf;, score=0.685 total time=   0.2s\n",
      "[CV 1/10] END .......C=1, gamma=0.9, kernel=rbf;, score=0.562 total time=   0.2s\n",
      "[CV 2/10] END .......C=1, gamma=0.9, kernel=rbf;, score=0.578 total time=   0.2s\n",
      "[CV 3/10] END .......C=1, gamma=0.9, kernel=rbf;, score=0.609 total time=   0.2s\n",
      "[CV 4/10] END .......C=1, gamma=0.9, kernel=rbf;, score=0.602 total time=   0.2s\n",
      "[CV 5/10] END .......C=1, gamma=0.9, kernel=rbf;, score=0.664 total time=   0.2s\n",
      "[CV 6/10] END .......C=1, gamma=0.9, kernel=rbf;, score=0.602 total time=   0.2s\n",
      "[CV 7/10] END .......C=1, gamma=0.9, kernel=rbf;, score=0.711 total time=   0.2s\n",
      "[CV 8/10] END .......C=1, gamma=0.9, kernel=rbf;, score=0.633 total time=   0.2s\n",
      "[CV 9/10] END .......C=1, gamma=0.9, kernel=rbf;, score=0.648 total time=   0.1s\n",
      "[CV 10/10] END ......C=1, gamma=0.9, kernel=rbf;, score=0.677 total time=   0.2s\n",
      "[CV 1/10] END ......C=10, gamma=0.1, kernel=rbf;, score=0.594 total time=   0.0s\n",
      "[CV 2/10] END ......C=10, gamma=0.1, kernel=rbf;, score=0.625 total time=   0.1s\n",
      "[CV 3/10] END ......C=10, gamma=0.1, kernel=rbf;, score=0.656 total time=   0.1s\n",
      "[CV 4/10] END ......C=10, gamma=0.1, kernel=rbf;, score=0.562 total time=   0.1s\n",
      "[CV 5/10] END ......C=10, gamma=0.1, kernel=rbf;, score=0.602 total time=   0.1s\n",
      "[CV 6/10] END ......C=10, gamma=0.1, kernel=rbf;, score=0.586 total time=   0.1s\n",
      "[CV 7/10] END ......C=10, gamma=0.1, kernel=rbf;, score=0.688 total time=   0.1s\n",
      "[CV 8/10] END ......C=10, gamma=0.1, kernel=rbf;, score=0.578 total time=   0.1s\n",
      "[CV 9/10] END ......C=10, gamma=0.1, kernel=rbf;, score=0.594 total time=   0.1s\n",
      "[CV 10/10] END .....C=10, gamma=0.1, kernel=rbf;, score=0.614 total time=   0.1s\n",
      "[CV 1/10] END ......C=10, gamma=0.2, kernel=rbf;, score=0.570 total time=   0.1s\n",
      "[CV 2/10] END ......C=10, gamma=0.2, kernel=rbf;, score=0.562 total time=   0.1s\n",
      "[CV 3/10] END ......C=10, gamma=0.2, kernel=rbf;, score=0.648 total time=   0.1s\n",
      "[CV 4/10] END ......C=10, gamma=0.2, kernel=rbf;, score=0.555 total time=   0.1s\n",
      "[CV 5/10] END ......C=10, gamma=0.2, kernel=rbf;, score=0.641 total time=   0.1s\n",
      "[CV 6/10] END ......C=10, gamma=0.2, kernel=rbf;, score=0.602 total time=   0.1s\n",
      "[CV 7/10] END ......C=10, gamma=0.2, kernel=rbf;, score=0.680 total time=   0.1s\n",
      "[CV 8/10] END ......C=10, gamma=0.2, kernel=rbf;, score=0.586 total time=   0.1s\n",
      "[CV 9/10] END ......C=10, gamma=0.2, kernel=rbf;, score=0.586 total time=   0.1s\n",
      "[CV 10/10] END .....C=10, gamma=0.2, kernel=rbf;, score=0.614 total time=   0.1s\n",
      "[CV 1/10] END ......C=10, gamma=0.3, kernel=rbf;, score=0.539 total time=   0.1s\n",
      "[CV 2/10] END ......C=10, gamma=0.3, kernel=rbf;, score=0.547 total time=   0.1s\n",
      "[CV 3/10] END ......C=10, gamma=0.3, kernel=rbf;, score=0.633 total time=   0.1s\n",
      "[CV 4/10] END ......C=10, gamma=0.3, kernel=rbf;, score=0.555 total time=   0.1s\n",
      "[CV 5/10] END ......C=10, gamma=0.3, kernel=rbf;, score=0.641 total time=   0.1s\n",
      "[CV 6/10] END ......C=10, gamma=0.3, kernel=rbf;, score=0.578 total time=   0.1s\n",
      "[CV 7/10] END ......C=10, gamma=0.3, kernel=rbf;, score=0.688 total time=   0.1s\n",
      "[CV 8/10] END ......C=10, gamma=0.3, kernel=rbf;, score=0.578 total time=   0.1s\n",
      "[CV 9/10] END ......C=10, gamma=0.3, kernel=rbf;, score=0.594 total time=   0.1s\n",
      "[CV 10/10] END .....C=10, gamma=0.3, kernel=rbf;, score=0.709 total time=   0.1s\n",
      "[CV 1/10] END ......C=10, gamma=0.4, kernel=rbf;, score=0.555 total time=   0.1s\n",
      "[CV 2/10] END ......C=10, gamma=0.4, kernel=rbf;, score=0.555 total time=   0.1s\n",
      "[CV 3/10] END ......C=10, gamma=0.4, kernel=rbf;, score=0.617 total time=   0.1s\n",
      "[CV 4/10] END ......C=10, gamma=0.4, kernel=rbf;, score=0.578 total time=   0.1s\n",
      "[CV 5/10] END ......C=10, gamma=0.4, kernel=rbf;, score=0.664 total time=   0.1s\n",
      "[CV 6/10] END ......C=10, gamma=0.4, kernel=rbf;, score=0.586 total time=   0.1s\n",
      "[CV 7/10] END ......C=10, gamma=0.4, kernel=rbf;, score=0.672 total time=   0.1s\n",
      "[CV 8/10] END ......C=10, gamma=0.4, kernel=rbf;, score=0.586 total time=   0.1s\n",
      "[CV 9/10] END ......C=10, gamma=0.4, kernel=rbf;, score=0.625 total time=   0.1s\n",
      "[CV 10/10] END .....C=10, gamma=0.4, kernel=rbf;, score=0.709 total time=   0.1s\n",
      "[CV 1/10] END ......C=10, gamma=0.5, kernel=rbf;, score=0.539 total time=   0.1s\n",
      "[CV 2/10] END ......C=10, gamma=0.5, kernel=rbf;, score=0.555 total time=   0.1s\n",
      "[CV 3/10] END ......C=10, gamma=0.5, kernel=rbf;, score=0.625 total time=   0.1s\n",
      "[CV 4/10] END ......C=10, gamma=0.5, kernel=rbf;, score=0.578 total time=   0.1s\n",
      "[CV 5/10] END ......C=10, gamma=0.5, kernel=rbf;, score=0.680 total time=   0.1s\n",
      "[CV 6/10] END ......C=10, gamma=0.5, kernel=rbf;, score=0.602 total time=   0.1s\n",
      "[CV 7/10] END ......C=10, gamma=0.5, kernel=rbf;, score=0.680 total time=   0.1s\n",
      "[CV 8/10] END ......C=10, gamma=0.5, kernel=rbf;, score=0.602 total time=   0.1s\n",
      "[CV 9/10] END ......C=10, gamma=0.5, kernel=rbf;, score=0.633 total time=   0.1s\n",
      "[CV 10/10] END .....C=10, gamma=0.5, kernel=rbf;, score=0.724 total time=   0.1s\n",
      "[CV 1/10] END ......C=10, gamma=0.6, kernel=rbf;, score=0.578 total time=   0.2s\n",
      "[CV 2/10] END ......C=10, gamma=0.6, kernel=rbf;, score=0.555 total time=   0.1s\n",
      "[CV 3/10] END ......C=10, gamma=0.6, kernel=rbf;, score=0.617 total time=   0.2s\n",
      "[CV 4/10] END ......C=10, gamma=0.6, kernel=rbf;, score=0.570 total time=   0.1s\n",
      "[CV 5/10] END ......C=10, gamma=0.6, kernel=rbf;, score=0.680 total time=   0.1s\n",
      "[CV 6/10] END ......C=10, gamma=0.6, kernel=rbf;, score=0.625 total time=   0.1s\n",
      "[CV 7/10] END ......C=10, gamma=0.6, kernel=rbf;, score=0.695 total time=   0.1s\n",
      "[CV 8/10] END ......C=10, gamma=0.6, kernel=rbf;, score=0.617 total time=   0.1s\n",
      "[CV 9/10] END ......C=10, gamma=0.6, kernel=rbf;, score=0.617 total time=   0.2s\n",
      "[CV 10/10] END .....C=10, gamma=0.6, kernel=rbf;, score=0.701 total time=   0.2s\n",
      "[CV 1/10] END ......C=10, gamma=0.7, kernel=rbf;, score=0.578 total time=   0.2s\n",
      "[CV 2/10] END ......C=10, gamma=0.7, kernel=rbf;, score=0.547 total time=   0.2s\n",
      "[CV 3/10] END ......C=10, gamma=0.7, kernel=rbf;, score=0.602 total time=   0.2s\n",
      "[CV 4/10] END ......C=10, gamma=0.7, kernel=rbf;, score=0.555 total time=   0.2s\n",
      "[CV 5/10] END ......C=10, gamma=0.7, kernel=rbf;, score=0.672 total time=   0.2s\n",
      "[CV 6/10] END ......C=10, gamma=0.7, kernel=rbf;, score=0.625 total time=   0.2s\n",
      "[CV 7/10] END ......C=10, gamma=0.7, kernel=rbf;, score=0.680 total time=   0.1s\n",
      "[CV 8/10] END ......C=10, gamma=0.7, kernel=rbf;, score=0.617 total time=   0.2s\n",
      "[CV 9/10] END ......C=10, gamma=0.7, kernel=rbf;, score=0.641 total time=   0.2s\n",
      "[CV 10/10] END .....C=10, gamma=0.7, kernel=rbf;, score=0.709 total time=   0.2s\n",
      "[CV 1/10] END ......C=10, gamma=0.8, kernel=rbf;, score=0.578 total time=   0.1s\n",
      "[CV 2/10] END ......C=10, gamma=0.8, kernel=rbf;, score=0.555 total time=   0.2s\n",
      "[CV 3/10] END ......C=10, gamma=0.8, kernel=rbf;, score=0.609 total time=   0.2s\n",
      "[CV 4/10] END ......C=10, gamma=0.8, kernel=rbf;, score=0.570 total time=   0.2s\n",
      "[CV 5/10] END ......C=10, gamma=0.8, kernel=rbf;, score=0.664 total time=   0.2s\n"
     ]
    },
    {
     "name": "stdout",
     "output_type": "stream",
     "text": [
      "[CV 6/10] END ......C=10, gamma=0.8, kernel=rbf;, score=0.633 total time=   0.2s\n",
      "[CV 7/10] END ......C=10, gamma=0.8, kernel=rbf;, score=0.656 total time=   0.2s\n",
      "[CV 8/10] END ......C=10, gamma=0.8, kernel=rbf;, score=0.609 total time=   0.2s\n",
      "[CV 9/10] END ......C=10, gamma=0.8, kernel=rbf;, score=0.648 total time=   0.2s\n",
      "[CV 10/10] END .....C=10, gamma=0.8, kernel=rbf;, score=0.701 total time=   0.2s\n",
      "[CV 1/10] END ......C=10, gamma=0.9, kernel=rbf;, score=0.602 total time=   0.2s\n",
      "[CV 2/10] END ......C=10, gamma=0.9, kernel=rbf;, score=0.539 total time=   0.2s\n",
      "[CV 3/10] END ......C=10, gamma=0.9, kernel=rbf;, score=0.617 total time=   0.2s\n",
      "[CV 4/10] END ......C=10, gamma=0.9, kernel=rbf;, score=0.570 total time=   0.2s\n",
      "[CV 5/10] END ......C=10, gamma=0.9, kernel=rbf;, score=0.656 total time=   0.2s\n",
      "[CV 6/10] END ......C=10, gamma=0.9, kernel=rbf;, score=0.633 total time=   0.2s\n",
      "[CV 7/10] END ......C=10, gamma=0.9, kernel=rbf;, score=0.664 total time=   0.2s\n",
      "[CV 8/10] END ......C=10, gamma=0.9, kernel=rbf;, score=0.625 total time=   0.2s\n",
      "[CV 9/10] END ......C=10, gamma=0.9, kernel=rbf;, score=0.648 total time=   0.2s\n",
      "[CV 10/10] END .....C=10, gamma=0.9, kernel=rbf;, score=0.701 total time=   0.2s\n",
      "[CV 1/10] END .....C=100, gamma=0.1, kernel=rbf;, score=0.531 total time=   0.2s\n",
      "[CV 2/10] END .....C=100, gamma=0.1, kernel=rbf;, score=0.523 total time=   0.2s\n",
      "[CV 3/10] END .....C=100, gamma=0.1, kernel=rbf;, score=0.625 total time=   0.1s\n",
      "[CV 4/10] END .....C=100, gamma=0.1, kernel=rbf;, score=0.539 total time=   0.2s\n",
      "[CV 5/10] END .....C=100, gamma=0.1, kernel=rbf;, score=0.617 total time=   0.2s\n",
      "[CV 6/10] END .....C=100, gamma=0.1, kernel=rbf;, score=0.578 total time=   0.1s\n",
      "[CV 7/10] END .....C=100, gamma=0.1, kernel=rbf;, score=0.672 total time=   0.2s\n",
      "[CV 8/10] END .....C=100, gamma=0.1, kernel=rbf;, score=0.570 total time=   0.2s\n",
      "[CV 9/10] END .....C=100, gamma=0.1, kernel=rbf;, score=0.570 total time=   0.2s\n",
      "[CV 10/10] END ....C=100, gamma=0.1, kernel=rbf;, score=0.638 total time=   0.2s\n",
      "[CV 1/10] END .....C=100, gamma=0.2, kernel=rbf;, score=0.523 total time=   0.1s\n",
      "[CV 2/10] END .....C=100, gamma=0.2, kernel=rbf;, score=0.531 total time=   0.1s\n",
      "[CV 3/10] END .....C=100, gamma=0.2, kernel=rbf;, score=0.602 total time=   0.1s\n",
      "[CV 4/10] END .....C=100, gamma=0.2, kernel=rbf;, score=0.586 total time=   0.1s\n",
      "[CV 5/10] END .....C=100, gamma=0.2, kernel=rbf;, score=0.648 total time=   0.1s\n",
      "[CV 6/10] END .....C=100, gamma=0.2, kernel=rbf;, score=0.562 total time=   0.1s\n",
      "[CV 7/10] END .....C=100, gamma=0.2, kernel=rbf;, score=0.680 total time=   0.2s\n",
      "[CV 8/10] END .....C=100, gamma=0.2, kernel=rbf;, score=0.586 total time=   0.1s\n",
      "[CV 9/10] END .....C=100, gamma=0.2, kernel=rbf;, score=0.602 total time=   0.1s\n",
      "[CV 10/10] END ....C=100, gamma=0.2, kernel=rbf;, score=0.638 total time=   0.2s\n",
      "[CV 1/10] END .....C=100, gamma=0.3, kernel=rbf;, score=0.547 total time=   0.1s\n",
      "[CV 2/10] END .....C=100, gamma=0.3, kernel=rbf;, score=0.500 total time=   0.1s\n",
      "[CV 3/10] END .....C=100, gamma=0.3, kernel=rbf;, score=0.633 total time=   0.1s\n",
      "[CV 4/10] END .....C=100, gamma=0.3, kernel=rbf;, score=0.578 total time=   0.1s\n",
      "[CV 5/10] END .....C=100, gamma=0.3, kernel=rbf;, score=0.664 total time=   0.1s\n",
      "[CV 6/10] END .....C=100, gamma=0.3, kernel=rbf;, score=0.570 total time=   0.1s\n",
      "[CV 7/10] END .....C=100, gamma=0.3, kernel=rbf;, score=0.672 total time=   0.1s\n",
      "[CV 8/10] END .....C=100, gamma=0.3, kernel=rbf;, score=0.609 total time=   0.1s\n",
      "[CV 9/10] END .....C=100, gamma=0.3, kernel=rbf;, score=0.609 total time=   0.2s\n",
      "[CV 10/10] END ....C=100, gamma=0.3, kernel=rbf;, score=0.685 total time=   0.1s\n",
      "[CV 1/10] END .....C=100, gamma=0.4, kernel=rbf;, score=0.555 total time=   0.1s\n",
      "[CV 2/10] END .....C=100, gamma=0.4, kernel=rbf;, score=0.539 total time=   0.1s\n",
      "[CV 3/10] END .....C=100, gamma=0.4, kernel=rbf;, score=0.625 total time=   0.1s\n",
      "[CV 4/10] END .....C=100, gamma=0.4, kernel=rbf;, score=0.578 total time=   0.1s\n",
      "[CV 5/10] END .....C=100, gamma=0.4, kernel=rbf;, score=0.656 total time=   0.1s\n",
      "[CV 6/10] END .....C=100, gamma=0.4, kernel=rbf;, score=0.586 total time=   0.1s\n",
      "[CV 7/10] END .....C=100, gamma=0.4, kernel=rbf;, score=0.672 total time=   0.1s\n",
      "[CV 8/10] END .....C=100, gamma=0.4, kernel=rbf;, score=0.617 total time=   0.1s\n",
      "[CV 9/10] END .....C=100, gamma=0.4, kernel=rbf;, score=0.609 total time=   0.1s\n",
      "[CV 10/10] END ....C=100, gamma=0.4, kernel=rbf;, score=0.685 total time=   0.1s\n",
      "[CV 1/10] END .....C=100, gamma=0.5, kernel=rbf;, score=0.547 total time=   0.1s\n",
      "[CV 2/10] END .....C=100, gamma=0.5, kernel=rbf;, score=0.547 total time=   0.1s\n",
      "[CV 3/10] END .....C=100, gamma=0.5, kernel=rbf;, score=0.633 total time=   0.1s\n",
      "[CV 4/10] END .....C=100, gamma=0.5, kernel=rbf;, score=0.578 total time=   0.1s\n",
      "[CV 5/10] END .....C=100, gamma=0.5, kernel=rbf;, score=0.680 total time=   0.2s\n",
      "[CV 6/10] END .....C=100, gamma=0.5, kernel=rbf;, score=0.586 total time=   0.2s\n",
      "[CV 7/10] END .....C=100, gamma=0.5, kernel=rbf;, score=0.680 total time=   0.2s\n",
      "[CV 8/10] END .....C=100, gamma=0.5, kernel=rbf;, score=0.617 total time=   0.2s\n",
      "[CV 9/10] END .....C=100, gamma=0.5, kernel=rbf;, score=0.602 total time=   0.1s\n",
      "[CV 10/10] END ....C=100, gamma=0.5, kernel=rbf;, score=0.724 total time=   0.2s\n",
      "[CV 1/10] END .....C=100, gamma=0.6, kernel=rbf;, score=0.578 total time=   0.2s\n",
      "[CV 2/10] END .....C=100, gamma=0.6, kernel=rbf;, score=0.555 total time=   0.2s\n",
      "[CV 3/10] END .....C=100, gamma=0.6, kernel=rbf;, score=0.617 total time=   0.2s\n",
      "[CV 4/10] END .....C=100, gamma=0.6, kernel=rbf;, score=0.562 total time=   0.1s\n",
      "[CV 5/10] END .....C=100, gamma=0.6, kernel=rbf;, score=0.672 total time=   0.2s\n",
      "[CV 6/10] END .....C=100, gamma=0.6, kernel=rbf;, score=0.617 total time=   0.2s\n",
      "[CV 7/10] END .....C=100, gamma=0.6, kernel=rbf;, score=0.688 total time=   0.2s\n",
      "[CV 8/10] END .....C=100, gamma=0.6, kernel=rbf;, score=0.609 total time=   0.1s\n",
      "[CV 9/10] END .....C=100, gamma=0.6, kernel=rbf;, score=0.617 total time=   0.1s\n",
      "[CV 10/10] END ....C=100, gamma=0.6, kernel=rbf;, score=0.709 total time=   0.2s\n",
      "[CV 1/10] END .....C=100, gamma=0.7, kernel=rbf;, score=0.586 total time=   0.2s\n",
      "[CV 2/10] END .....C=100, gamma=0.7, kernel=rbf;, score=0.547 total time=   0.1s\n",
      "[CV 3/10] END .....C=100, gamma=0.7, kernel=rbf;, score=0.602 total time=   0.2s\n",
      "[CV 4/10] END .....C=100, gamma=0.7, kernel=rbf;, score=0.555 total time=   0.2s\n",
      "[CV 5/10] END .....C=100, gamma=0.7, kernel=rbf;, score=0.656 total time=   0.1s\n",
      "[CV 6/10] END .....C=100, gamma=0.7, kernel=rbf;, score=0.625 total time=   0.2s\n",
      "[CV 7/10] END .....C=100, gamma=0.7, kernel=rbf;, score=0.688 total time=   0.2s\n",
      "[CV 8/10] END .....C=100, gamma=0.7, kernel=rbf;, score=0.617 total time=   0.2s\n",
      "[CV 9/10] END .....C=100, gamma=0.7, kernel=rbf;, score=0.641 total time=   0.2s\n",
      "[CV 10/10] END ....C=100, gamma=0.7, kernel=rbf;, score=0.693 total time=   0.2s\n",
      "[CV 1/10] END .....C=100, gamma=0.8, kernel=rbf;, score=0.594 total time=   0.2s\n",
      "[CV 2/10] END .....C=100, gamma=0.8, kernel=rbf;, score=0.555 total time=   0.2s\n",
      "[CV 3/10] END .....C=100, gamma=0.8, kernel=rbf;, score=0.609 total time=   0.2s\n",
      "[CV 4/10] END .....C=100, gamma=0.8, kernel=rbf;, score=0.570 total time=   0.2s\n",
      "[CV 5/10] END .....C=100, gamma=0.8, kernel=rbf;, score=0.664 total time=   0.2s\n",
      "[CV 6/10] END .....C=100, gamma=0.8, kernel=rbf;, score=0.641 total time=   0.2s\n",
      "[CV 7/10] END .....C=100, gamma=0.8, kernel=rbf;, score=0.664 total time=   0.2s\n",
      "[CV 8/10] END .....C=100, gamma=0.8, kernel=rbf;, score=0.617 total time=   0.2s\n",
      "[CV 9/10] END .....C=100, gamma=0.8, kernel=rbf;, score=0.641 total time=   0.2s\n",
      "[CV 10/10] END ....C=100, gamma=0.8, kernel=rbf;, score=0.701 total time=   0.2s\n",
      "[CV 1/10] END .....C=100, gamma=0.9, kernel=rbf;, score=0.602 total time=   0.2s\n",
      "[CV 2/10] END .....C=100, gamma=0.9, kernel=rbf;, score=0.539 total time=   0.2s\n",
      "[CV 3/10] END .....C=100, gamma=0.9, kernel=rbf;, score=0.617 total time=   0.2s\n",
      "[CV 4/10] END .....C=100, gamma=0.9, kernel=rbf;, score=0.570 total time=   0.2s\n",
      "[CV 5/10] END .....C=100, gamma=0.9, kernel=rbf;, score=0.648 total time=   0.2s\n",
      "[CV 6/10] END .....C=100, gamma=0.9, kernel=rbf;, score=0.641 total time=   0.2s\n",
      "[CV 7/10] END .....C=100, gamma=0.9, kernel=rbf;, score=0.672 total time=   0.2s\n"
     ]
    },
    {
     "name": "stdout",
     "output_type": "stream",
     "text": [
      "[CV 8/10] END .....C=100, gamma=0.9, kernel=rbf;, score=0.633 total time=   0.2s\n",
      "[CV 9/10] END .....C=100, gamma=0.9, kernel=rbf;, score=0.648 total time=   0.2s\n",
      "[CV 10/10] END ....C=100, gamma=0.9, kernel=rbf;, score=0.693 total time=   0.2s\n",
      "[CV 1/10] END ....C=1000, gamma=0.1, kernel=rbf;, score=0.562 total time=   0.4s\n",
      "[CV 2/10] END ....C=1000, gamma=0.1, kernel=rbf;, score=0.523 total time=   0.4s\n",
      "[CV 3/10] END ....C=1000, gamma=0.1, kernel=rbf;, score=0.578 total time=   0.4s\n",
      "[CV 4/10] END ....C=1000, gamma=0.1, kernel=rbf;, score=0.586 total time=   0.4s\n",
      "[CV 5/10] END ....C=1000, gamma=0.1, kernel=rbf;, score=0.594 total time=   0.4s\n",
      "[CV 6/10] END ....C=1000, gamma=0.1, kernel=rbf;, score=0.609 total time=   0.4s\n",
      "[CV 7/10] END ....C=1000, gamma=0.1, kernel=rbf;, score=0.656 total time=   0.4s\n",
      "[CV 8/10] END ....C=1000, gamma=0.1, kernel=rbf;, score=0.602 total time=   0.5s\n",
      "[CV 9/10] END ....C=1000, gamma=0.1, kernel=rbf;, score=0.570 total time=   0.4s\n",
      "[CV 10/10] END ...C=1000, gamma=0.1, kernel=rbf;, score=0.591 total time=   0.5s\n",
      "[CV 1/10] END ....C=1000, gamma=0.2, kernel=rbf;, score=0.531 total time=   0.2s\n",
      "[CV 2/10] END ....C=1000, gamma=0.2, kernel=rbf;, score=0.516 total time=   0.2s\n",
      "[CV 3/10] END ....C=1000, gamma=0.2, kernel=rbf;, score=0.625 total time=   0.2s\n",
      "[CV 4/10] END ....C=1000, gamma=0.2, kernel=rbf;, score=0.562 total time=   0.2s\n",
      "[CV 5/10] END ....C=1000, gamma=0.2, kernel=rbf;, score=0.641 total time=   0.2s\n",
      "[CV 6/10] END ....C=1000, gamma=0.2, kernel=rbf;, score=0.578 total time=   0.2s\n",
      "[CV 7/10] END ....C=1000, gamma=0.2, kernel=rbf;, score=0.680 total time=   0.2s\n",
      "[CV 8/10] END ....C=1000, gamma=0.2, kernel=rbf;, score=0.586 total time=   0.2s\n",
      "[CV 9/10] END ....C=1000, gamma=0.2, kernel=rbf;, score=0.594 total time=   0.2s\n",
      "[CV 10/10] END ...C=1000, gamma=0.2, kernel=rbf;, score=0.630 total time=   0.2s\n",
      "[CV 1/10] END ....C=1000, gamma=0.3, kernel=rbf;, score=0.562 total time=   0.1s\n",
      "[CV 2/10] END ....C=1000, gamma=0.3, kernel=rbf;, score=0.508 total time=   0.1s\n",
      "[CV 3/10] END ....C=1000, gamma=0.3, kernel=rbf;, score=0.625 total time=   0.1s\n",
      "[CV 4/10] END ....C=1000, gamma=0.3, kernel=rbf;, score=0.578 total time=   0.1s\n",
      "[CV 5/10] END ....C=1000, gamma=0.3, kernel=rbf;, score=0.664 total time=   0.1s\n",
      "[CV 6/10] END ....C=1000, gamma=0.3, kernel=rbf;, score=0.602 total time=   0.1s\n",
      "[CV 7/10] END ....C=1000, gamma=0.3, kernel=rbf;, score=0.672 total time=   0.1s\n",
      "[CV 8/10] END ....C=1000, gamma=0.3, kernel=rbf;, score=0.617 total time=   0.1s\n",
      "[CV 9/10] END ....C=1000, gamma=0.3, kernel=rbf;, score=0.594 total time=   0.1s\n",
      "[CV 10/10] END ...C=1000, gamma=0.3, kernel=rbf;, score=0.677 total time=   0.1s\n",
      "[CV 1/10] END ....C=1000, gamma=0.4, kernel=rbf;, score=0.555 total time=   0.1s\n",
      "[CV 2/10] END ....C=1000, gamma=0.4, kernel=rbf;, score=0.539 total time=   0.1s\n",
      "[CV 3/10] END ....C=1000, gamma=0.4, kernel=rbf;, score=0.625 total time=   0.1s\n",
      "[CV 4/10] END ....C=1000, gamma=0.4, kernel=rbf;, score=0.578 total time=   0.1s\n",
      "[CV 5/10] END ....C=1000, gamma=0.4, kernel=rbf;, score=0.656 total time=   0.1s\n",
      "[CV 6/10] END ....C=1000, gamma=0.4, kernel=rbf;, score=0.594 total time=   0.1s\n",
      "[CV 7/10] END ....C=1000, gamma=0.4, kernel=rbf;, score=0.672 total time=   0.1s\n",
      "[CV 8/10] END ....C=1000, gamma=0.4, kernel=rbf;, score=0.609 total time=   0.1s\n",
      "[CV 9/10] END ....C=1000, gamma=0.4, kernel=rbf;, score=0.602 total time=   0.1s\n",
      "[CV 10/10] END ...C=1000, gamma=0.4, kernel=rbf;, score=0.709 total time=   0.1s\n",
      "[CV 1/10] END ....C=1000, gamma=0.5, kernel=rbf;, score=0.547 total time=   0.1s\n",
      "[CV 2/10] END ....C=1000, gamma=0.5, kernel=rbf;, score=0.547 total time=   0.1s\n",
      "[CV 3/10] END ....C=1000, gamma=0.5, kernel=rbf;, score=0.633 total time=   0.1s\n",
      "[CV 4/10] END ....C=1000, gamma=0.5, kernel=rbf;, score=0.578 total time=   0.1s\n",
      "[CV 5/10] END ....C=1000, gamma=0.5, kernel=rbf;, score=0.680 total time=   0.1s\n",
      "[CV 6/10] END ....C=1000, gamma=0.5, kernel=rbf;, score=0.594 total time=   0.1s\n",
      "[CV 7/10] END ....C=1000, gamma=0.5, kernel=rbf;, score=0.680 total time=   0.1s\n",
      "[CV 8/10] END ....C=1000, gamma=0.5, kernel=rbf;, score=0.617 total time=   0.2s\n",
      "[CV 9/10] END ....C=1000, gamma=0.5, kernel=rbf;, score=0.602 total time=   0.1s\n",
      "[CV 10/10] END ...C=1000, gamma=0.5, kernel=rbf;, score=0.724 total time=   0.2s\n",
      "[CV 1/10] END ....C=1000, gamma=0.6, kernel=rbf;, score=0.578 total time=   0.1s\n",
      "[CV 2/10] END ....C=1000, gamma=0.6, kernel=rbf;, score=0.555 total time=   0.1s\n",
      "[CV 3/10] END ....C=1000, gamma=0.6, kernel=rbf;, score=0.617 total time=   0.1s\n",
      "[CV 4/10] END ....C=1000, gamma=0.6, kernel=rbf;, score=0.562 total time=   0.1s\n",
      "[CV 5/10] END ....C=1000, gamma=0.6, kernel=rbf;, score=0.672 total time=   0.1s\n",
      "[CV 6/10] END ....C=1000, gamma=0.6, kernel=rbf;, score=0.617 total time=   0.1s\n",
      "[CV 7/10] END ....C=1000, gamma=0.6, kernel=rbf;, score=0.688 total time=   0.1s\n",
      "[CV 8/10] END ....C=1000, gamma=0.6, kernel=rbf;, score=0.609 total time=   0.1s\n",
      "[CV 9/10] END ....C=1000, gamma=0.6, kernel=rbf;, score=0.617 total time=   0.1s\n",
      "[CV 10/10] END ...C=1000, gamma=0.6, kernel=rbf;, score=0.709 total time=   0.2s\n",
      "[CV 1/10] END ....C=1000, gamma=0.7, kernel=rbf;, score=0.586 total time=   0.2s\n",
      "[CV 2/10] END ....C=1000, gamma=0.7, kernel=rbf;, score=0.547 total time=   0.2s\n",
      "[CV 3/10] END ....C=1000, gamma=0.7, kernel=rbf;, score=0.602 total time=   0.2s\n",
      "[CV 4/10] END ....C=1000, gamma=0.7, kernel=rbf;, score=0.555 total time=   0.2s\n",
      "[CV 5/10] END ....C=1000, gamma=0.7, kernel=rbf;, score=0.656 total time=   0.2s\n",
      "[CV 6/10] END ....C=1000, gamma=0.7, kernel=rbf;, score=0.625 total time=   0.2s\n",
      "[CV 7/10] END ....C=1000, gamma=0.7, kernel=rbf;, score=0.688 total time=   0.2s\n",
      "[CV 8/10] END ....C=1000, gamma=0.7, kernel=rbf;, score=0.617 total time=   0.2s\n",
      "[CV 9/10] END ....C=1000, gamma=0.7, kernel=rbf;, score=0.641 total time=   0.2s\n",
      "[CV 10/10] END ...C=1000, gamma=0.7, kernel=rbf;, score=0.693 total time=   0.2s\n",
      "[CV 1/10] END ....C=1000, gamma=0.8, kernel=rbf;, score=0.594 total time=   0.2s\n",
      "[CV 2/10] END ....C=1000, gamma=0.8, kernel=rbf;, score=0.555 total time=   0.2s\n",
      "[CV 3/10] END ....C=1000, gamma=0.8, kernel=rbf;, score=0.609 total time=   0.2s\n",
      "[CV 4/10] END ....C=1000, gamma=0.8, kernel=rbf;, score=0.570 total time=   0.2s\n",
      "[CV 5/10] END ....C=1000, gamma=0.8, kernel=rbf;, score=0.664 total time=   0.2s\n",
      "[CV 6/10] END ....C=1000, gamma=0.8, kernel=rbf;, score=0.641 total time=   0.2s\n",
      "[CV 7/10] END ....C=1000, gamma=0.8, kernel=rbf;, score=0.664 total time=   0.2s\n",
      "[CV 8/10] END ....C=1000, gamma=0.8, kernel=rbf;, score=0.617 total time=   0.2s\n",
      "[CV 9/10] END ....C=1000, gamma=0.8, kernel=rbf;, score=0.641 total time=   0.2s\n",
      "[CV 10/10] END ...C=1000, gamma=0.8, kernel=rbf;, score=0.701 total time=   0.2s\n",
      "[CV 1/10] END ....C=1000, gamma=0.9, kernel=rbf;, score=0.602 total time=   0.2s\n",
      "[CV 2/10] END ....C=1000, gamma=0.9, kernel=rbf;, score=0.539 total time=   0.2s\n",
      "[CV 3/10] END ....C=1000, gamma=0.9, kernel=rbf;, score=0.617 total time=   0.2s\n",
      "[CV 4/10] END ....C=1000, gamma=0.9, kernel=rbf;, score=0.570 total time=   0.2s\n",
      "[CV 5/10] END ....C=1000, gamma=0.9, kernel=rbf;, score=0.648 total time=   0.2s\n",
      "[CV 6/10] END ....C=1000, gamma=0.9, kernel=rbf;, score=0.641 total time=   0.2s\n",
      "[CV 7/10] END ....C=1000, gamma=0.9, kernel=rbf;, score=0.672 total time=   0.2s\n",
      "[CV 8/10] END ....C=1000, gamma=0.9, kernel=rbf;, score=0.633 total time=   0.2s\n",
      "[CV 9/10] END ....C=1000, gamma=0.9, kernel=rbf;, score=0.648 total time=   0.2s\n",
      "[CV 10/10] END ...C=1000, gamma=0.9, kernel=rbf;, score=0.693 total time=   0.2s\n"
     ]
    },
    {
     "data": {
      "text/plain": [
       "0.6310039370078739"
      ]
     },
     "execution_count": 17,
     "metadata": {},
     "output_type": "execute_result"
    }
   ],
   "source": [
    "#Grid search for best model and parameters\n",
    "from sklearn.model_selection import GridSearchCV\n",
    "parameters = [{'C': [1, 10, 100, 1000], 'kernel': ['linear']},\n",
    "              {'C': [1, 10, 100, 1000], 'kernel': ['rbf'],\n",
    "               'gamma': [0.1, 0.2, 0.3, 0.4, 0.5, 0.6, 0.7, 0.8, 0.9]}]\n",
    "grid_search = GridSearchCV(estimator = classifier,\n",
    "                           param_grid = parameters,\n",
    "                           scoring = 'accuracy',\n",
    "                           cv = 10,refit=True,verbose=3)\n",
    "grid_search.fit(X_train, y_train)\n",
    "best_accuracy = grid_search.best_score_\n",
    "best_parameters = grid_search.best_params_\n",
    "#here is the best accuracy\n",
    "best_accuracy"
   ]
  },
  {
   "cell_type": "code",
   "execution_count": 18,
   "id": "4c1b08c9",
   "metadata": {},
   "outputs": [
    {
     "data": {
      "text/plain": [
       "{'C': 1, 'gamma': 0.8, 'kernel': 'rbf'}"
      ]
     },
     "execution_count": 18,
     "metadata": {},
     "output_type": "execute_result"
    }
   ],
   "source": [
    "#and here is best parameters\n",
    "best_parameters"
   ]
  },
  {
   "cell_type": "code",
   "execution_count": 42,
   "id": "0c1539ff",
   "metadata": {},
   "outputs": [],
   "source": [
    "# Fitting Kernel SVM to the Training set with best parameters\n",
    "from sklearn.svm import SVC\n",
    "classifier = SVC(kernel = 'rbf', gamma = 0.8)\n",
    "classifier.fit(X_train, y_train)\n",
    "\n",
    "#Predicting the Test Set\n",
    "y_pred = classifier.predict(X_test)"
   ]
  },
  {
   "cell_type": "code",
   "execution_count": 43,
   "id": "efbb4660",
   "metadata": {},
   "outputs": [],
   "source": [
    "accuracy=accuracy_score(y_test,y_pred)"
   ]
  },
  {
   "cell_type": "code",
   "execution_count": 44,
   "id": "bd39692b",
   "metadata": {},
   "outputs": [
    {
     "data": {
      "text/plain": [
       "0.69375"
      ]
     },
     "execution_count": 44,
     "metadata": {},
     "output_type": "execute_result"
    }
   ],
   "source": [
    "accuracy"
   ]
  },
  {
   "cell_type": "code",
   "execution_count": null,
   "id": "467d4c5e",
   "metadata": {},
   "outputs": [],
   "source": []
  }
 ],
 "metadata": {
  "kernelspec": {
   "display_name": "Python 3 (ipykernel)",
   "language": "python",
   "name": "python3"
  },
  "language_info": {
   "codemirror_mode": {
    "name": "ipython",
    "version": 3
   },
   "file_extension": ".py",
   "mimetype": "text/x-python",
   "name": "python",
   "nbconvert_exporter": "python",
   "pygments_lexer": "ipython3",
   "version": "3.9.12"
  }
 },
 "nbformat": 4,
 "nbformat_minor": 5
}
